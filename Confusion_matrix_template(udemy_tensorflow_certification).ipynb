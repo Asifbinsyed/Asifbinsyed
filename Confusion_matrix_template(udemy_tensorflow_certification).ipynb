{
  "nbformat": 4,
  "nbformat_minor": 0,
  "metadata": {
    "colab": {
      "name": "Confusion_matrix_template(udemy_tensorflow_certification).ipynb",
      "provenance": [],
      "authorship_tag": "ABX9TyNycXP1WI8hgSr5Jpe9AlOT",
      "include_colab_link": true
    },
    "kernelspec": {
      "name": "python3",
      "display_name": "Python 3"
    },
    "language_info": {
      "name": "python"
    }
  },
  "cells": [
    {
      "cell_type": "markdown",
      "metadata": {
        "id": "view-in-github",
        "colab_type": "text"
      },
      "source": [
        "<a href=\"https://colab.research.google.com/github/Asifbinsyed/Asifbinsyed/blob/main/Confusion_matrix_template(udemy_tensorflow_certification).ipynb\" target=\"_parent\"><img src=\"https://colab.research.google.com/assets/colab-badge.svg\" alt=\"Open In Colab\"/></a>"
      ]
    },
    {
      "cell_type": "code",
      "source": [
        "#for binary class confusion matrix \n",
        "\n",
        "from sklearn.metrics import confusion_matrix\n",
        "import itertools\n",
        "\n",
        "figsize = (10, 10)\n",
        "\n",
        "# Create the confusion matrix\n",
        "cm = confusion_matrix(y_test, tf.round(y_preds))\n",
        "cm_norm = cm.astype(\"float\") / cm.sum(axis=1)[:, np.newaxis] # normalize our confusion matrix\n",
        "n_classes = cm.shape[0]\n",
        "\n",
        "# Let's prettify it\n",
        "fig, ax = plt.subplots(figsize=figsize)\n",
        "# Create a matrix plot\n",
        "cax = ax.matshow(cm, cmap=plt.cm.Blues)\n",
        "fig.colorbar(cax)\n",
        "\n",
        "# Create classes\n",
        "classes = False\n",
        "\n",
        "if classes:\n",
        "  labels = classes\n",
        "else:\n",
        "  labels = np.arange(cm.shape[0])\n",
        "\n",
        "# Label the axes\n",
        "ax.set(title=\"Confusion Matrix\",\n",
        "       xlabel=\"Predicted Label\",\n",
        "       ylabel=\"True Label\",\n",
        "       xticks=np.arange(n_classes),\n",
        "       yticks=np.arange(n_classes),\n",
        "       xticklabels=labels, \n",
        "       yticklabels=labels)\n",
        "\n",
        "# Set x-axis labels to bottom\n",
        "ax.xaxis.set_label_position(\"bottom\")\n",
        "ax.xaxis.tick_bottom()\n",
        "\n",
        "# Adjust label size\n",
        "ax.yaxis.label.set_size(20)\n",
        "ax.xaxis.label.set_size(20)\n",
        "ax.title.set_size(20)\n",
        "\n",
        "# Set threshold for different colors\n",
        "threshold = (cm.max() + cm.min()) / 2.\n",
        "\n",
        "# Plot the text on each cell\n",
        "for i, j in itertools.product(range(cm.shape[0]), range(cm.shape[1])):\n",
        "  plt.text(j, i, f\"{cm[i, j]} ({cm_norm[i, j]*100:.1f}%)\",\n",
        "           horizontalalignment=\"center\",\n",
        "           color=\"white\" if cm[i, j] > threshold else \"black\",\n",
        "           size=15)"
      ],
      "metadata": {
        "id": "Q-FX15f9h0gm"
      },
      "execution_count": null,
      "outputs": []
    },
    {
      "cell_type": "code",
      "source": [
        "#for multiclass_cofusion matrix \n",
        "# Create a confusion matrix\n",
        "from sklearn.metrics import confusion_matrix\n",
        "import itertools\n",
        "from sklearn.metrics import confusion_matrix\n",
        "\n",
        "def make_confusion_matrix(y_true, y_pred, classes=None, figsize=(10, 10), text_size=15):\n",
        "  # Create the confusion matrix\n",
        "  cm = confusion_matrix(y_true, y_pred)\n",
        "  cm_norm = cm.astype(\"float\") / cm.sum(axis=1)[:, np.newaxis] # normalize our confusion matrix\n",
        "  n_classes = cm.shape[0]\n",
        "\n",
        "  # Let's prettify it\n",
        "  fig, ax = plt.subplots(figsize=figsize)\n",
        "  # Create a matrix plot\n",
        "  cax = ax.matshow(cm, cmap=plt.cm.Blues)\n",
        "  fig.colorbar(cax)\n",
        "\n",
        "  # Set labels to be classes \n",
        "  if classes:\n",
        "    labels = classes\n",
        "  else:\n",
        "    labels = np.arange(cm.shape[0])\n",
        "\n",
        "  # Label the axes\n",
        "  ax.set(title=\"Confusion Matrix\",\n",
        "        xlabel=\"Predicted Label\",\n",
        "        ylabel=\"True Label\",\n",
        "        xticks=np.arange(n_classes),\n",
        "        yticks=np.arange(n_classes),\n",
        "        xticklabels=labels, \n",
        "        yticklabels=labels)\n",
        "\n",
        "  # Set x-axis labels to bottom\n",
        "  ax.xaxis.set_label_position(\"bottom\")\n",
        "  ax.xaxis.tick_bottom()\n",
        "\n",
        "  # Adjust label size\n",
        "  ax.yaxis.label.set_size(text_size)\n",
        "  ax.xaxis.label.set_size(text_size)\n",
        "  ax.title.set_size(text_size)\n",
        "\n",
        "  # Set threshold for different colors\n",
        "  threshold = (cm.max() + cm.min()) / 2.\n",
        "\n",
        "  # Plot the text on each cell\n",
        "  for i, j in itertools.product(range(cm.shape[0]), range(cm.shape[1])):\n",
        "    plt.text(j, i, f\"{cm[i, j]} ({cm_norm[i, j]*100:.1f}%)\",\n",
        "            horizontalalignment=\"center\",\n",
        "            color=\"white\" if cm[i, j] > threshold else \"black\",\n",
        "            size=text_size)"
      ],
      "metadata": {
        "id": "09ipDDb4j-0G"
      },
      "execution_count": null,
      "outputs": []
    }
  ]
}